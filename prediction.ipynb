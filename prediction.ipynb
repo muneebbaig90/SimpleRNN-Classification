{
 "cells": [
  {
   "cell_type": "code",
   "execution_count": 1,
   "metadata": {},
   "outputs": [],
   "source": [
    "# Step 1: Import Libraries and Load the Model\n",
    "import numpy as np\n",
    "import tensorflow as tf\n",
    "from tensorflow.keras.datasets import imdb\n",
    "from tensorflow.keras.preprocessing import sequence\n",
    "from tensorflow.keras.models import load_model"
   ]
  },
  {
   "cell_type": "code",
   "execution_count": 2,
   "metadata": {},
   "outputs": [],
   "source": [
    "# Load the IMDB dataset word index\n",
    "word_index = imdb.get_word_index()\n",
    "reverse_word_index = {value: key for key, value in word_index.items()}"
   ]
  },
  {
   "cell_type": "code",
   "execution_count": 3,
   "metadata": {},
   "outputs": [
    {
     "name": "stderr",
     "output_type": "stream",
     "text": [
      "WARNING:absl:Compiled the loaded model, but the compiled metrics have yet to be built. `model.compile_metrics` will be empty until you train or evaluate the model.\n"
     ]
    },
    {
     "data": {
      "text/html": [
       "<pre style=\"white-space:pre;overflow-x:auto;line-height:normal;font-family:Menlo,'DejaVu Sans Mono',consolas,'Courier New',monospace\"><span style=\"font-weight: bold\">Model: \"sequential\"</span>\n",
       "</pre>\n"
      ],
      "text/plain": [
       "\u001b[1mModel: \"sequential\"\u001b[0m\n"
      ]
     },
     "metadata": {},
     "output_type": "display_data"
    },
    {
     "data": {
      "text/html": [
       "<pre style=\"white-space:pre;overflow-x:auto;line-height:normal;font-family:Menlo,'DejaVu Sans Mono',consolas,'Courier New',monospace\">┏━━━━━━━━━━━━━━━━━━━━━━━━━━━━━━━━━┳━━━━━━━━━━━━━━━━━━━━━━━━┳━━━━━━━━━━━━━━━┓\n",
       "┃<span style=\"font-weight: bold\"> Layer (type)                    </span>┃<span style=\"font-weight: bold\"> Output Shape           </span>┃<span style=\"font-weight: bold\">       Param # </span>┃\n",
       "┡━━━━━━━━━━━━━━━━━━━━━━━━━━━━━━━━━╇━━━━━━━━━━━━━━━━━━━━━━━━╇━━━━━━━━━━━━━━━┩\n",
       "│ embedding (<span style=\"color: #0087ff; text-decoration-color: #0087ff\">Embedding</span>)           │ (<span style=\"color: #00d7ff; text-decoration-color: #00d7ff\">None</span>, <span style=\"color: #00af00; text-decoration-color: #00af00\">500</span>, <span style=\"color: #00af00; text-decoration-color: #00af00\">128</span>)       │     <span style=\"color: #00af00; text-decoration-color: #00af00\">1,280,000</span> │\n",
       "├─────────────────────────────────┼────────────────────────┼───────────────┤\n",
       "│ simple_rnn (<span style=\"color: #0087ff; text-decoration-color: #0087ff\">SimpleRNN</span>)          │ (<span style=\"color: #00d7ff; text-decoration-color: #00d7ff\">None</span>, <span style=\"color: #00af00; text-decoration-color: #00af00\">128</span>)            │        <span style=\"color: #00af00; text-decoration-color: #00af00\">32,896</span> │\n",
       "├─────────────────────────────────┼────────────────────────┼───────────────┤\n",
       "│ dense (<span style=\"color: #0087ff; text-decoration-color: #0087ff\">Dense</span>)                   │ (<span style=\"color: #00d7ff; text-decoration-color: #00d7ff\">None</span>, <span style=\"color: #00af00; text-decoration-color: #00af00\">1</span>)              │           <span style=\"color: #00af00; text-decoration-color: #00af00\">129</span> │\n",
       "└─────────────────────────────────┴────────────────────────┴───────────────┘\n",
       "</pre>\n"
      ],
      "text/plain": [
       "┏━━━━━━━━━━━━━━━━━━━━━━━━━━━━━━━━━┳━━━━━━━━━━━━━━━━━━━━━━━━┳━━━━━━━━━━━━━━━┓\n",
       "┃\u001b[1m \u001b[0m\u001b[1mLayer (type)                   \u001b[0m\u001b[1m \u001b[0m┃\u001b[1m \u001b[0m\u001b[1mOutput Shape          \u001b[0m\u001b[1m \u001b[0m┃\u001b[1m \u001b[0m\u001b[1m      Param #\u001b[0m\u001b[1m \u001b[0m┃\n",
       "┡━━━━━━━━━━━━━━━━━━━━━━━━━━━━━━━━━╇━━━━━━━━━━━━━━━━━━━━━━━━╇━━━━━━━━━━━━━━━┩\n",
       "│ embedding (\u001b[38;5;33mEmbedding\u001b[0m)           │ (\u001b[38;5;45mNone\u001b[0m, \u001b[38;5;34m500\u001b[0m, \u001b[38;5;34m128\u001b[0m)       │     \u001b[38;5;34m1,280,000\u001b[0m │\n",
       "├─────────────────────────────────┼────────────────────────┼───────────────┤\n",
       "│ simple_rnn (\u001b[38;5;33mSimpleRNN\u001b[0m)          │ (\u001b[38;5;45mNone\u001b[0m, \u001b[38;5;34m128\u001b[0m)            │        \u001b[38;5;34m32,896\u001b[0m │\n",
       "├─────────────────────────────────┼────────────────────────┼───────────────┤\n",
       "│ dense (\u001b[38;5;33mDense\u001b[0m)                   │ (\u001b[38;5;45mNone\u001b[0m, \u001b[38;5;34m1\u001b[0m)              │           \u001b[38;5;34m129\u001b[0m │\n",
       "└─────────────────────────────────┴────────────────────────┴───────────────┘\n"
      ]
     },
     "metadata": {},
     "output_type": "display_data"
    },
    {
     "data": {
      "text/html": [
       "<pre style=\"white-space:pre;overflow-x:auto;line-height:normal;font-family:Menlo,'DejaVu Sans Mono',consolas,'Courier New',monospace\"><span style=\"font-weight: bold\"> Total params: </span><span style=\"color: #00af00; text-decoration-color: #00af00\">1,313,027</span> (5.01 MB)\n",
       "</pre>\n"
      ],
      "text/plain": [
       "\u001b[1m Total params: \u001b[0m\u001b[38;5;34m1,313,027\u001b[0m (5.01 MB)\n"
      ]
     },
     "metadata": {},
     "output_type": "display_data"
    },
    {
     "data": {
      "text/html": [
       "<pre style=\"white-space:pre;overflow-x:auto;line-height:normal;font-family:Menlo,'DejaVu Sans Mono',consolas,'Courier New',monospace\"><span style=\"font-weight: bold\"> Trainable params: </span><span style=\"color: #00af00; text-decoration-color: #00af00\">1,313,025</span> (5.01 MB)\n",
       "</pre>\n"
      ],
      "text/plain": [
       "\u001b[1m Trainable params: \u001b[0m\u001b[38;5;34m1,313,025\u001b[0m (5.01 MB)\n"
      ]
     },
     "metadata": {},
     "output_type": "display_data"
    },
    {
     "data": {
      "text/html": [
       "<pre style=\"white-space:pre;overflow-x:auto;line-height:normal;font-family:Menlo,'DejaVu Sans Mono',consolas,'Courier New',monospace\"><span style=\"font-weight: bold\"> Non-trainable params: </span><span style=\"color: #00af00; text-decoration-color: #00af00\">0</span> (0.00 B)\n",
       "</pre>\n"
      ],
      "text/plain": [
       "\u001b[1m Non-trainable params: \u001b[0m\u001b[38;5;34m0\u001b[0m (0.00 B)\n"
      ]
     },
     "metadata": {},
     "output_type": "display_data"
    },
    {
     "data": {
      "text/html": [
       "<pre style=\"white-space:pre;overflow-x:auto;line-height:normal;font-family:Menlo,'DejaVu Sans Mono',consolas,'Courier New',monospace\"><span style=\"font-weight: bold\"> Optimizer params: </span><span style=\"color: #00af00; text-decoration-color: #00af00\">2</span> (12.00 B)\n",
       "</pre>\n"
      ],
      "text/plain": [
       "\u001b[1m Optimizer params: \u001b[0m\u001b[38;5;34m2\u001b[0m (12.00 B)\n"
      ]
     },
     "metadata": {},
     "output_type": "display_data"
    }
   ],
   "source": [
    "# Load the pre-trained model with ReLU activation\n",
    "model = load_model('simple_rnn_imdb.h5')\n",
    "model.summary()"
   ]
  },
  {
   "cell_type": "code",
   "execution_count": 4,
   "metadata": {},
   "outputs": [
    {
     "data": {
      "text/plain": [
       "[array([[ 0.879931  , -0.84261876,  0.5906687 , ..., -0.51772434,\n",
       "         -0.3815678 , -0.63268507],\n",
       "        [ 0.08249652, -0.05587201,  0.05301819, ..., -0.01537155,\n",
       "          0.0392095 , -0.01277257],\n",
       "        [ 0.11095916, -0.04478042,  0.05152198, ..., -0.02543256,\n",
       "         -0.0081799 , -0.0175714 ],\n",
       "        ...,\n",
       "        [ 0.07655454, -0.09606835,  0.00702003, ...,  0.00821237,\n",
       "          0.02771265,  0.0934432 ],\n",
       "        [-0.0262131 ,  0.10651144, -0.10503532, ...,  0.02066362,\n",
       "          0.15664497, -0.00244661],\n",
       "        [ 0.01504769, -0.08445347,  0.13326085, ..., -0.03546756,\n",
       "         -0.1259111 , -0.09857489]], dtype=float32),\n",
       " array([[-0.03012393,  0.02115231, -0.02383076, ..., -0.02334953,\n",
       "          0.05659313, -0.04820863],\n",
       "        [ 0.00827688,  0.10929321,  0.00264118, ..., -0.07072552,\n",
       "          0.1387007 ,  0.0884817 ],\n",
       "        [ 0.02183093,  0.16703193,  0.03882483, ...,  0.13872826,\n",
       "         -0.09131569,  0.06563136],\n",
       "        ...,\n",
       "        [ 0.13336718, -0.00693813, -0.14334248, ...,  0.03555143,\n",
       "         -0.02677529, -0.05081057],\n",
       "        [ 0.04909371,  0.13845016, -0.16904932, ..., -0.03009561,\n",
       "         -0.09300304, -0.19645803],\n",
       "        [ 0.03940918, -0.09632035,  0.09327906, ...,  0.05975304,\n",
       "         -0.08908419, -0.032137  ]], dtype=float32),\n",
       " array([[-0.11012439, -0.0404078 ,  0.03620727, ...,  0.00100239,\n",
       "         -0.09142696, -0.03970873],\n",
       "        [-0.02367523, -0.04677679,  0.06038025, ...,  0.12796608,\n",
       "          0.07731164, -0.11376473],\n",
       "        [-0.02202293,  0.11863253, -0.02061771, ..., -0.13865733,\n",
       "         -0.22238524,  0.00623253],\n",
       "        ...,\n",
       "        [-0.0058857 , -0.11455771, -0.02306806, ..., -0.03687643,\n",
       "         -0.10694481, -0.04472686],\n",
       "        [-0.05063764,  0.0860151 , -0.07135235, ..., -0.08469289,\n",
       "          0.02052076,  0.00371213],\n",
       "        [-0.00121761, -0.05026638,  0.15676464, ...,  0.14460233,\n",
       "         -0.00184165,  0.04593589]], dtype=float32),\n",
       " array([-0.03142437, -0.01942076,  0.01647647, -0.00521821,  0.02128482,\n",
       "        -0.01026489,  0.00815182, -0.00196705,  0.00187374, -0.01841993,\n",
       "        -0.03574791,  0.01728637,  0.02436595,  0.02403504,  0.03836685,\n",
       "        -0.02167618,  0.01273728, -0.0571961 ,  0.01660236,  0.01834328,\n",
       "        -0.00356834,  0.00784505,  0.00661115,  0.0169442 ,  0.00649797,\n",
       "        -0.01926649,  0.01287846, -0.00581857,  0.02141454,  0.01735628,\n",
       "        -0.03190943, -0.03960296,  0.02549808, -0.0099664 , -0.01619176,\n",
       "        -0.02120075, -0.03745236, -0.03707899,  0.06089376, -0.00636048,\n",
       "        -0.03305659, -0.01885291,  0.02153827,  0.01191381, -0.00972906,\n",
       "        -0.03947786,  0.0042009 ,  0.02716945,  0.01275721, -0.0385918 ,\n",
       "         0.02500513, -0.00577097, -0.03859   , -0.0311154 ,  0.03006248,\n",
       "         0.01734604, -0.02773422, -0.01878383,  0.02421634, -0.02933964,\n",
       "         0.00334735, -0.04162428, -0.04240141,  0.00818909,  0.05054628,\n",
       "         0.00616103,  0.02273552, -0.02261529,  0.01614384,  0.04003607,\n",
       "        -0.01321677, -0.03866747, -0.0063308 , -0.0051187 , -0.01276962,\n",
       "        -0.03271648, -0.03186327, -0.03241844, -0.02255377, -0.0276536 ,\n",
       "         0.03411162, -0.03886551,  0.02600228, -0.02011797, -0.02458259,\n",
       "        -0.02628455,  0.01121004, -0.00189079, -0.04165663,  0.02148722,\n",
       "        -0.05206853, -0.02783789,  0.01858259, -0.02006229, -0.02670886,\n",
       "         0.00681703, -0.02176208,  0.01405407,  0.02151648, -0.01920132,\n",
       "        -0.02924077, -0.01251846, -0.03615437, -0.01920542,  0.02282995,\n",
       "        -0.06262074, -0.00163898,  0.01352132,  0.06610105,  0.02231655,\n",
       "        -0.03319053, -0.03858856, -0.03339227, -0.01119496, -0.03405136,\n",
       "         0.02552291, -0.01544327, -0.01066742,  0.01436348,  0.02714627,\n",
       "        -0.0425828 , -0.03834251,  0.02307865, -0.00870019, -0.03817187,\n",
       "        -0.03514882,  0.010331  ,  0.01390947], dtype=float32),\n",
       " array([[-1.40632108e-01],\n",
       "        [ 8.44751224e-02],\n",
       "        [-3.21365036e-02],\n",
       "        [ 2.56980415e-02],\n",
       "        [-1.28239632e-01],\n",
       "        [-1.88793510e-01],\n",
       "        [ 2.02724785e-02],\n",
       "        [-2.80183524e-01],\n",
       "        [ 2.55273432e-01],\n",
       "        [-2.03631014e-01],\n",
       "        [ 1.78132713e-01],\n",
       "        [ 1.62492260e-01],\n",
       "        [ 1.37717485e-01],\n",
       "        [ 1.68902799e-01],\n",
       "        [ 5.53508997e-02],\n",
       "        [ 2.32229099e-01],\n",
       "        [ 8.08161646e-02],\n",
       "        [-1.36736795e-01],\n",
       "        [ 7.65015185e-02],\n",
       "        [ 1.75621584e-01],\n",
       "        [-1.30691454e-01],\n",
       "        [ 2.00166851e-01],\n",
       "        [ 2.63574004e-01],\n",
       "        [ 4.86785211e-02],\n",
       "        [-1.42486483e-01],\n",
       "        [ 2.89563119e-01],\n",
       "        [ 3.65542201e-03],\n",
       "        [ 1.88910037e-01],\n",
       "        [ 2.20023215e-01],\n",
       "        [-9.71718207e-02],\n",
       "        [-4.57412265e-02],\n",
       "        [ 2.08067030e-01],\n",
       "        [ 1.47961423e-01],\n",
       "        [-1.57747105e-01],\n",
       "        [-1.95887893e-01],\n",
       "        [-1.56743497e-01],\n",
       "        [-2.66151372e-02],\n",
       "        [ 4.07370664e-02],\n",
       "        [ 2.66173035e-02],\n",
       "        [-5.38123012e-01],\n",
       "        [ 3.90147209e-01],\n",
       "        [-2.79131532e-01],\n",
       "        [ 1.65936515e-01],\n",
       "        [ 1.53731436e-01],\n",
       "        [-1.91273671e-02],\n",
       "        [ 1.36873871e-02],\n",
       "        [ 4.22872573e-01],\n",
       "        [ 8.36490691e-02],\n",
       "        [-4.50798273e-02],\n",
       "        [ 1.52111724e-02],\n",
       "        [ 2.72645690e-02],\n",
       "        [ 8.88018776e-03],\n",
       "        [ 3.72199267e-02],\n",
       "        [-4.35028076e-01],\n",
       "        [ 4.81655188e-02],\n",
       "        [ 1.88471273e-01],\n",
       "        [ 1.33056745e-01],\n",
       "        [ 1.39099633e-04],\n",
       "        [ 2.21534614e-02],\n",
       "        [ 1.36411358e-02],\n",
       "        [-1.33732021e-01],\n",
       "        [ 1.62682548e-01],\n",
       "        [ 7.57898465e-02],\n",
       "        [ 7.88789764e-02],\n",
       "        [ 2.79759038e-02],\n",
       "        [ 8.53874311e-02],\n",
       "        [ 4.71801423e-02],\n",
       "        [-4.54846710e-01],\n",
       "        [-2.37393513e-01],\n",
       "        [ 1.89690500e-01],\n",
       "        [-6.65457323e-02],\n",
       "        [ 1.53562784e-01],\n",
       "        [-2.10095629e-01],\n",
       "        [-3.55977714e-02],\n",
       "        [-1.74548849e-01],\n",
       "        [ 2.10055277e-01],\n",
       "        [-1.05487503e-01],\n",
       "        [ 2.06881791e-01],\n",
       "        [ 1.48970008e-01],\n",
       "        [ 9.86262023e-01],\n",
       "        [ 1.95261575e-02],\n",
       "        [ 1.49014995e-01],\n",
       "        [ 6.23191260e-02],\n",
       "        [-1.15811698e-01],\n",
       "        [-1.01196058e-01],\n",
       "        [-2.04669446e-01],\n",
       "        [ 1.03874393e-01],\n",
       "        [ 2.45828126e-02],\n",
       "        [-3.71803313e-01],\n",
       "        [-7.57325534e-03],\n",
       "        [ 1.84019729e-02],\n",
       "        [ 1.12367526e-01],\n",
       "        [-7.28355795e-02],\n",
       "        [-4.12773676e-02],\n",
       "        [ 2.03392029e-01],\n",
       "        [ 1.14645489e-01],\n",
       "        [-1.79837570e-02],\n",
       "        [ 2.16910779e-01],\n",
       "        [-1.03866100e-01],\n",
       "        [-1.92649111e-01],\n",
       "        [ 3.20371747e-01],\n",
       "        [-9.18296501e-02],\n",
       "        [ 1.64898008e-01],\n",
       "        [-2.95434217e-03],\n",
       "        [ 2.16411144e-01],\n",
       "        [ 1.64759398e-01],\n",
       "        [ 5.03612570e-02],\n",
       "        [-2.01012716e-01],\n",
       "        [ 1.51566207e-01],\n",
       "        [-4.16913837e-01],\n",
       "        [-2.01790184e-02],\n",
       "        [-1.90566272e-01],\n",
       "        [ 1.74816519e-01],\n",
       "        [-3.12847197e-01],\n",
       "        [ 3.76741625e-02],\n",
       "        [ 1.14526100e-01],\n",
       "        [ 3.57942134e-01],\n",
       "        [ 7.19379708e-02],\n",
       "        [-2.31027573e-01],\n",
       "        [-1.50763988e-01],\n",
       "        [ 7.90677369e-02],\n",
       "        [ 2.65544634e-02],\n",
       "        [ 1.68177977e-01],\n",
       "        [ 5.90346307e-02],\n",
       "        [-2.42724493e-01],\n",
       "        [ 1.11412190e-01],\n",
       "        [-1.74482260e-03],\n",
       "        [ 1.37530878e-01]], dtype=float32),\n",
       " array([0.30965528], dtype=float32)]"
      ]
     },
     "execution_count": 4,
     "metadata": {},
     "output_type": "execute_result"
    }
   ],
   "source": [
    "model.get_weights()"
   ]
  },
  {
   "cell_type": "code",
   "execution_count": 5,
   "metadata": {},
   "outputs": [],
   "source": [
    "# Step 2: Helper Functions\n",
    "# Function to decode reviews\n",
    "def decode_review(encoded_review):\n",
    "    return ' '.join([reverse_word_index.get(i - 3, '?') for i in encoded_review])\n",
    "\n",
    "# Function to preprocess user input\n",
    "def preprocess_text(text):\n",
    "    words = text.lower().split()\n",
    "    encoded_review = [word_index.get(word, 2) + 3 for word in words]\n",
    "    padded_review = sequence.pad_sequences([encoded_review], maxlen=500)\n",
    "    return padded_review"
   ]
  },
  {
   "cell_type": "code",
   "execution_count": 6,
   "metadata": {},
   "outputs": [],
   "source": [
    "### Prediction function\n",
    "\n",
    "\n",
    "def predict_sentiment(review):\n",
    "    preprocessed_input = preprocess_text(review)\n",
    "\n",
    "\n",
    "    prediction = model.predict(preprocessed_input)\n",
    "\n",
    "    sentiment = 'Positive' if prediction[0][0] > 0.5 else 'Negative'\n",
    "    \n",
    "    \n",
    "    return sentiment, prediction[0][0]"
   ]
  },
  {
   "cell_type": "code",
   "execution_count": 7,
   "metadata": {},
   "outputs": [
    {
     "name": "stdout",
     "output_type": "stream",
     "text": [
      "[[ 0  0  0  0  0  0  0  0  0  0  0  0  0  0  0  0  0  0  0  0  0  0  0  0\n",
      "   0  0  0  0  0  0  0  0  0  0  0  0  0  0  0  0  0  0  0  0  0  0  0  0\n",
      "   0  0  0  0  0  0  0  0  0  0  0  0  0  0  0  0  0  0  0  0  0  0  0  0\n",
      "   0  0  0  0  0  0  0  0  0  0  0  0  0  0  0  0  0  0  0  0  0  0  0  0\n",
      "   0  0  0  0  0  0  0  0  0  0  0  0  0  0  0  0  0  0  0  0  0  0  0  0\n",
      "   0  0  0  0  0  0  0  0  0  0  0  0  0  0  0  0  0  0  0  0  0  0  0  0\n",
      "   0  0  0  0  0  0  0  0  0  0  0  0  0  0  0  0  0  0  0  0  0  0  0  0\n",
      "   0  0  0  0  0  0  0  0  0  0  0  0  0  0  0  0  0  0  0  0  0  0  0  0\n",
      "   0  0  0  0  0  0  0  0  0  0  0  0  0  0  0  0  0  0  0  0  0  0  0  0\n",
      "   0  0  0  0  0  0  0  0  0  0  0  0  0  0  0  0  0  0  0  0  0  0  0  0\n",
      "   0  0  0  0  0  0  0  0  0  0  0  0  0  0  0  0  0  0  0  0  0  0  0  0\n",
      "   0  0  0  0  0  0  0  0  0  0  0  0  0  0  0  0  0  0  0  0  0  0  0  0\n",
      "   0  0  0  0  0  0  0  0  0  0  0  0  0  0  0  0  0  0  0  0  0  0  0  0\n",
      "   0  0  0  0  0  0  0  0  0  0  0  0  0  0  0  0  0  0  0  0  0  0  0  0\n",
      "   0  0  0  0  0  0  0  0  0  0  0  0  0  0  0  0  0  0  0  0  0  0  0  0\n",
      "   0  0  0  0  0  0  0  0  0  0  0  0  0  0  0  0  0  0  0  0  0  0  0  0\n",
      "   0  0  0  0  0  0  0  0  0  0  0  0  0  0  0  0  0  0  0  0  0  0  0  0\n",
      "   0  0  0  0  0  0  0  0  0  0  0  0  0  0  0  0  0  0  0  0  0  0  0  0\n",
      "   0  0  0  0  0  0  0  0  0  0  0  0  0  0  0  0  0  0  0  0  0  0  0  0\n",
      "   0  0  0  0  0  0  0  0  0  0  0  0  0  0  0  0  0  0  0  0  0  0  0  0\n",
      "   0  0  0  0  0  0  0  0  0  0  0  0  0  0  0  0  0 20  9 52]]\n"
     ]
    }
   ],
   "source": [
    "ttete = \"Movie is good\"\n",
    "ss = preprocess_text(ttete)\n",
    "print(ss)\n",
    "\n"
   ]
  },
  {
   "cell_type": "code",
   "execution_count": 12,
   "metadata": {},
   "outputs": [
    {
     "name": "stdout",
     "output_type": "stream",
     "text": [
      "\u001b[1m1/1\u001b[0m \u001b[32m━━━━━━━━━━━━━━━━━━━━\u001b[0m\u001b[37m\u001b[0m \u001b[1m0s\u001b[0m 94ms/step\n",
      "Review: This movie was fantastic! The acting was great and the plot was thrilling.\n",
      "Sentiment: Positive\n",
      "Prediction Score: 0.9974498152732849\n"
     ]
    }
   ],
   "source": [
    "# Step 4: User Input and Prediction\n",
    "# Example review for prediction\n",
    "example_review = \"This movie was fantastic! The acting was great and the plot was thrilling.\"\n",
    "\n",
    "sentiment,score=predict_sentiment(example_review)\n",
    "\n",
    "\n",
    "\n",
    "\n",
    "print(f'Review: {example_review}')\n",
    "print(f'Sentiment: {sentiment}')\n",
    "print(f'Prediction Score: {score}')"
   ]
  },
  {
   "cell_type": "code",
   "execution_count": null,
   "metadata": {},
   "outputs": [],
   "source": []
  }
 ],
 "metadata": {
  "kernelspec": {
   "display_name": "Python 3",
   "language": "python",
   "name": "python3"
  },
  "language_info": {
   "codemirror_mode": {
    "name": "ipython",
    "version": 3
   },
   "file_extension": ".py",
   "mimetype": "text/x-python",
   "name": "python",
   "nbconvert_exporter": "python",
   "pygments_lexer": "ipython3",
   "version": "3.11.0"
  }
 },
 "nbformat": 4,
 "nbformat_minor": 2
}
